{
 "cells": [
  {
   "cell_type": "code",
   "execution_count": 109,
   "metadata": {},
   "outputs": [],
   "source": [
    "import numpy as np\n",
    "import pandas as pd\n",
    "import matplotlib.pyplot as plt\n",
    "from datetime import datetime\n",
    "plt.rcParams['figure.figsize']=[16,9]\n",
    "from sklearn import linear_model\n",
    "from statsmodels.graphics.tsaplots import plot_acf, plot_pacf"
   ]
  },
  {
   "cell_type": "code",
   "execution_count": 110,
   "metadata": {},
   "outputs": [],
   "source": [
    "data=pd.read_csv('monthly-wage.csv',sep=';')"
   ]
  },
  {
   "cell_type": "code",
   "execution_count": 111,
   "metadata": {},
   "outputs": [
    {
     "data": {
      "text/html": [
       "<div>\n",
       "<style scoped>\n",
       "    .dataframe tbody tr th:only-of-type {\n",
       "        vertical-align: middle;\n",
       "    }\n",
       "\n",
       "    .dataframe tbody tr th {\n",
       "        vertical-align: top;\n",
       "    }\n",
       "\n",
       "    .dataframe thead th {\n",
       "        text-align: right;\n",
       "    }\n",
       "</style>\n",
       "<table border=\"1\" class=\"dataframe\">\n",
       "  <thead>\n",
       "    <tr style=\"text-align: right;\">\n",
       "      <th></th>\n",
       "      <th>Month</th>\n",
       "      <th>Real wage</th>\n",
       "    </tr>\n",
       "  </thead>\n",
       "  <tbody>\n",
       "    <tr>\n",
       "      <th>0</th>\n",
       "      <td>1993-01</td>\n",
       "      <td>100.00</td>\n",
       "    </tr>\n",
       "    <tr>\n",
       "      <th>1</th>\n",
       "      <td>1993-02</td>\n",
       "      <td>99.04</td>\n",
       "    </tr>\n",
       "    <tr>\n",
       "      <th>2</th>\n",
       "      <td>1993-03</td>\n",
       "      <td>101.77</td>\n",
       "    </tr>\n",
       "    <tr>\n",
       "      <th>3</th>\n",
       "      <td>1993-04</td>\n",
       "      <td>110.05</td>\n",
       "    </tr>\n",
       "    <tr>\n",
       "      <th>4</th>\n",
       "      <td>1993-05</td>\n",
       "      <td>115.47</td>\n",
       "    </tr>\n",
       "  </tbody>\n",
       "</table>\n",
       "</div>"
      ],
      "text/plain": [
       "     Month  Real wage\n",
       "0  1993-01     100.00\n",
       "1  1993-02      99.04\n",
       "2  1993-03     101.77\n",
       "3  1993-04     110.05\n",
       "4  1993-05     115.47"
      ]
     },
     "execution_count": 111,
     "metadata": {},
     "output_type": "execute_result"
    }
   ],
   "source": [
    "data.head(5)"
   ]
  },
  {
   "cell_type": "code",
   "execution_count": 112,
   "metadata": {},
   "outputs": [],
   "source": [
    "data.Month=data.Month.apply(lambda x: datetime.strptime(x,\"%Y-%m\"))"
   ]
  },
  {
   "cell_type": "code",
   "execution_count": 113,
   "metadata": {},
   "outputs": [],
   "source": [
    "data.set_index('Month',inplace=True)"
   ]
  },
  {
   "cell_type": "code",
   "execution_count": 114,
   "metadata": {},
   "outputs": [],
   "source": [
    "data= data.rename(columns={\"Real wage\": \"Real_wage\"})"
   ]
  },
  {
   "cell_type": "code",
   "execution_count": 115,
   "metadata": {},
   "outputs": [],
   "source": [
    "data1=data.Real_wage.values\n"
   ]
  },
  {
   "cell_type": "code",
   "execution_count": 116,
   "metadata": {},
   "outputs": [],
   "source": [
    "y_new=[]  # taking log diff series\n",
    "for index, datum in enumerate(data1):\n",
    "    if index==0: l=np.log(datum)\n",
    "    l=np.log(data1[index])-np.log(data1[index-1])\n",
    "    y_new.append(l)\n",
    "      "
   ]
  },
  {
   "cell_type": "code",
   "execution_count": 117,
   "metadata": {},
   "outputs": [],
   "source": [
    "y_new_new=[]  # differencing seasonality\n",
    "for index, datum in enumerate(y_new):\n",
    "    if index in range(0,12): h=datum\n",
    "    h= y_new[index]-y_new[index-12]\n",
    "    y_new_new.append(h)"
   ]
  },
  {
   "cell_type": "code",
   "execution_count": 148,
   "metadata": {},
   "outputs": [],
   "source": [
    "class ARI:\n",
    "    # շարքերը դիֆերենցում ենք d աստիճանի ու գծային ռեգրեսիա անում դիֆերենցված շարքը իր p լագերից կախված\n",
    "    def _init_(self,p,d):\n",
    "        self.p=p\n",
    "        self.d=d\n",
    "        \n",
    "    \n",
    "    def B(array):\n",
    "        new_arr=array.shift(1)\n",
    "        return new_arr\n",
    "\n",
    "\n",
    "    def I(self,new_array):  # I = Integreted\n",
    "        if self.d==1:\n",
    "            new_array=new_array-B(new_array)\n",
    "            return new_array\n",
    "        else:\n",
    "            return I(I(new_array,self.d-1),self.d-1)\n",
    "    \n",
    "    \n",
    "    def AR(self,new_array):  # AR = Autoregression \n",
    "        for i in range(1,self.p):\n",
    "            I(data['Real_wage(t-{})'.format(i)])=I(data[\"Real_wage\"].shift(i))\n",
    "    data_new=data.dropna()\n",
    "    \n",
    "    \n",
    "    X=data_new.drop(\"Real_wage\",axis=1)\n",
    "    Y=data_new[\"Real_wage\"]\n",
    "    \n",
    "    # train/test split\n",
    "    X_train=X[:int(0.6*len(X))]\n",
    "    Y_train=Y[:int(0.6*len(Y))]\n",
    "    X_test=X[int(0.6*len(X)):]\n",
    "    Y_test=np.array(Y[int(0.6*len(Y)):])\n",
    "    \n",
    "    # modeling \n",
    "    model= linear_model.LinearRegression()\n",
    "    model.fit(X_train, Y_train)\n",
    "    Y_pred=model.predict(X_test)\n",
    "    \n",
    "    # loss\n",
    "    return(np.sqrt(np.mean(np.square(Y_test-Y_pred))))\n",
    "    \n",
    "    \n",
    "    \n",
    "    \n",
    " \n",
    "\n",
    "        \n",
    "        \n"
   ]
  },
  {
   "cell_type": "code",
   "execution_count": null,
   "metadata": {},
   "outputs": [],
   "source": [
    "\n",
    "    "
   ]
  },
  {
   "cell_type": "code",
   "execution_count": null,
   "metadata": {},
   "outputs": [],
   "source": []
  },
  {
   "cell_type": "code",
   "execution_count": null,
   "metadata": {},
   "outputs": [],
   "source": []
  },
  {
   "cell_type": "code",
   "execution_count": 121,
   "metadata": {},
   "outputs": [],
   "source": []
  },
  {
   "cell_type": "code",
   "execution_count": null,
   "metadata": {},
   "outputs": [],
   "source": []
  },
  {
   "cell_type": "code",
   "execution_count": null,
   "metadata": {},
   "outputs": [],
   "source": []
  },
  {
   "cell_type": "code",
   "execution_count": null,
   "metadata": {},
   "outputs": [],
   "source": []
  }
 ],
 "metadata": {
  "kernelspec": {
   "display_name": "Python 3",
   "language": "python",
   "name": "python3"
  },
  "language_info": {
   "codemirror_mode": {
    "name": "ipython",
    "version": 3
   },
   "file_extension": ".py",
   "mimetype": "text/x-python",
   "name": "python",
   "nbconvert_exporter": "python",
   "pygments_lexer": "ipython3",
   "version": "3.7.3"
  }
 },
 "nbformat": 4,
 "nbformat_minor": 2
}
